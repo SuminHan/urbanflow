{
 "cells": [
  {
   "cell_type": "code",
   "execution_count": 3,
   "id": "970a101f",
   "metadata": {},
   "outputs": [],
   "source": [
    "import os\n",
    "os.chdir('..')"
   ]
  },
  {
   "cell_type": "code",
   "execution_count": 4,
   "id": "9c48060e",
   "metadata": {},
   "outputs": [],
   "source": [
    "import urbanflow as uf"
   ]
  },
  {
   "cell_type": "code",
   "execution_count": 5,
   "id": "2c35ef2f",
   "metadata": {},
   "outputs": [
    {
     "name": "stderr",
     "output_type": "stream",
     "text": [
      "/disk1/jupyter/smhan/urbanflow/transportation/subway/monthly_subway.py:30: UserWarning: pandas only supports SQLAlchemy connectable (engine/connection) or database string URI or sqlite3 DBAPI2 connection. Other DBAPI2 objects are not tested. Please consider using SQLAlchemy.\n",
      "  df = pd.read_sql(query, conn)\n"
     ]
    }
   ],
   "source": [
    "df = uf.load_monthly_subway(line='2호선', station='낙성대')"
   ]
  },
  {
   "cell_type": "code",
   "execution_count": 6,
   "id": "872fd864",
   "metadata": {},
   "outputs": [
    {
     "data": {
      "text/html": [
       "<div>\n",
       "<style scoped>\n",
       "    .dataframe tbody tr th:only-of-type {\n",
       "        vertical-align: middle;\n",
       "    }\n",
       "\n",
       "    .dataframe tbody tr th {\n",
       "        vertical-align: top;\n",
       "    }\n",
       "\n",
       "    .dataframe thead th {\n",
       "        text-align: right;\n",
       "    }\n",
       "</style>\n",
       "<table border=\"1\" class=\"dataframe\">\n",
       "  <thead>\n",
       "    <tr style=\"text-align: right;\">\n",
       "      <th></th>\n",
       "      <th>id</th>\n",
       "      <th>date</th>\n",
       "      <th>line_number</th>\n",
       "      <th>station_name</th>\n",
       "      <th>getin_count</th>\n",
       "      <th>getoff_count</th>\n",
       "    </tr>\n",
       "  </thead>\n",
       "  <tbody>\n",
       "    <tr>\n",
       "      <th>0</th>\n",
       "      <td>1</td>\n",
       "      <td>2015-01-01</td>\n",
       "      <td>2호선</td>\n",
       "      <td>낙성대</td>\n",
       "      <td>14586</td>\n",
       "      <td>14889</td>\n",
       "    </tr>\n",
       "    <tr>\n",
       "      <th>1</th>\n",
       "      <td>629</td>\n",
       "      <td>2015-01-02</td>\n",
       "      <td>2호선</td>\n",
       "      <td>낙성대</td>\n",
       "      <td>28755</td>\n",
       "      <td>27293</td>\n",
       "    </tr>\n",
       "    <tr>\n",
       "      <th>2</th>\n",
       "      <td>1245</td>\n",
       "      <td>2015-01-03</td>\n",
       "      <td>2호선</td>\n",
       "      <td>낙성대</td>\n",
       "      <td>23603</td>\n",
       "      <td>21652</td>\n",
       "    </tr>\n",
       "    <tr>\n",
       "      <th>3</th>\n",
       "      <td>1655</td>\n",
       "      <td>2015-01-04</td>\n",
       "      <td>2호선</td>\n",
       "      <td>낙성대</td>\n",
       "      <td>18958</td>\n",
       "      <td>19979</td>\n",
       "    </tr>\n",
       "    <tr>\n",
       "      <th>4</th>\n",
       "      <td>2316</td>\n",
       "      <td>2015-01-05</td>\n",
       "      <td>2호선</td>\n",
       "      <td>낙성대</td>\n",
       "      <td>33394</td>\n",
       "      <td>33110</td>\n",
       "    </tr>\n",
       "    <tr>\n",
       "      <th>...</th>\n",
       "      <td>...</td>\n",
       "      <td>...</td>\n",
       "      <td>...</td>\n",
       "      <td>...</td>\n",
       "      <td>...</td>\n",
       "      <td>...</td>\n",
       "    </tr>\n",
       "    <tr>\n",
       "      <th>1891</th>\n",
       "      <td>1077414</td>\n",
       "      <td>2020-03-05</td>\n",
       "      <td>2호선</td>\n",
       "      <td>낙성대</td>\n",
       "      <td>21505</td>\n",
       "      <td>20734</td>\n",
       "    </tr>\n",
       "    <tr>\n",
       "      <th>1892</th>\n",
       "      <td>1079767</td>\n",
       "      <td>2020-03-09</td>\n",
       "      <td>2호선</td>\n",
       "      <td>낙성대</td>\n",
       "      <td>22718</td>\n",
       "      <td>22405</td>\n",
       "    </tr>\n",
       "    <tr>\n",
       "      <th>1893</th>\n",
       "      <td>1078592</td>\n",
       "      <td>2020-03-07</td>\n",
       "      <td>2호선</td>\n",
       "      <td>낙성대</td>\n",
       "      <td>14975</td>\n",
       "      <td>13513</td>\n",
       "    </tr>\n",
       "    <tr>\n",
       "      <th>1894</th>\n",
       "      <td>1079181</td>\n",
       "      <td>2020-03-08</td>\n",
       "      <td>2호선</td>\n",
       "      <td>낙성대</td>\n",
       "      <td>10605</td>\n",
       "      <td>10479</td>\n",
       "    </tr>\n",
       "    <tr>\n",
       "      <th>1895</th>\n",
       "      <td>1080359</td>\n",
       "      <td>2020-03-10</td>\n",
       "      <td>2호선</td>\n",
       "      <td>낙성대</td>\n",
       "      <td>21992</td>\n",
       "      <td>21196</td>\n",
       "    </tr>\n",
       "  </tbody>\n",
       "</table>\n",
       "<p>1896 rows × 6 columns</p>\n",
       "</div>"
      ],
      "text/plain": [
       "           id        date line_number station_name  getin_count  getoff_count\n",
       "0           1  2015-01-01         2호선          낙성대        14586         14889\n",
       "1         629  2015-01-02         2호선          낙성대        28755         27293\n",
       "2        1245  2015-01-03         2호선          낙성대        23603         21652\n",
       "3        1655  2015-01-04         2호선          낙성대        18958         19979\n",
       "4        2316  2015-01-05         2호선          낙성대        33394         33110\n",
       "...       ...         ...         ...          ...          ...           ...\n",
       "1891  1077414  2020-03-05         2호선          낙성대        21505         20734\n",
       "1892  1079767  2020-03-09         2호선          낙성대        22718         22405\n",
       "1893  1078592  2020-03-07         2호선          낙성대        14975         13513\n",
       "1894  1079181  2020-03-08         2호선          낙성대        10605         10479\n",
       "1895  1080359  2020-03-10         2호선          낙성대        21992         21196\n",
       "\n",
       "[1896 rows x 6 columns]"
      ]
     },
     "execution_count": 6,
     "metadata": {},
     "output_type": "execute_result"
    }
   ],
   "source": [
    "df"
   ]
  },
  {
   "cell_type": "code",
   "execution_count": null,
   "id": "1a96f0c2",
   "metadata": {},
   "outputs": [],
   "source": []
  }
 ],
 "metadata": {
  "kernelspec": {
   "display_name": "PGIS",
   "language": "python",
   "name": "pgis"
  },
  "language_info": {
   "codemirror_mode": {
    "name": "ipython",
    "version": 3
   },
   "file_extension": ".py",
   "mimetype": "text/x-python",
   "name": "python",
   "nbconvert_exporter": "python",
   "pygments_lexer": "ipython3",
   "version": "3.10.0"
  }
 },
 "nbformat": 4,
 "nbformat_minor": 5
}
